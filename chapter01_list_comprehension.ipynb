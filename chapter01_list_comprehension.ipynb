{
 "cells": [
  {
   "cell_type": "code",
   "execution_count": 1,
   "id": "5b633765",
   "metadata": {},
   "outputs": [],
   "source": [
    "# [2, 4, 6, 8, 10 ... 20]"
   ]
  },
  {
   "cell_type": "code",
   "execution_count": 2,
   "id": "ea92a33d",
   "metadata": {},
   "outputs": [
    {
     "data": {
      "text/plain": [
       "[1, 2, 3, 4, 5, 6, 7, 8, 9, 10]"
      ]
     },
     "execution_count": 2,
     "metadata": {},
     "output_type": "execute_result"
    }
   ],
   "source": [
    "list(range(1, 11))"
   ]
  },
  {
   "cell_type": "code",
   "execution_count": 3,
   "id": "af7620aa",
   "metadata": {
    "scrolled": true
   },
   "outputs": [],
   "source": [
    "test = []\n",
    "\n",
    "for i in range(1, 11) : \n",
    "    i = i * 2\n",
    "    # print(i)\n",
    "    \n",
    "    test.append(i)\n",
    "    "
   ]
  },
  {
   "cell_type": "code",
   "execution_count": 4,
   "id": "30ce211e",
   "metadata": {},
   "outputs": [
    {
     "data": {
      "text/plain": [
       "[2, 4, 6, 8, 10, 12, 14, 16, 18, 20]"
      ]
     },
     "execution_count": 4,
     "metadata": {},
     "output_type": "execute_result"
    }
   ],
   "source": [
    "test"
   ]
  },
  {
   "cell_type": "code",
   "execution_count": 5,
   "id": "e5baee32",
   "metadata": {},
   "outputs": [
    {
     "data": {
      "text/plain": [
       "[2, 4, 6, 8, 10, 12, 14, 16, 18, 20]"
      ]
     },
     "execution_count": 5,
     "metadata": {},
     "output_type": "execute_result"
    }
   ],
   "source": [
    "[i * 2 for i in range(1, 11)]"
   ]
  },
  {
   "cell_type": "code",
   "execution_count": 6,
   "id": "bf50a5ae",
   "metadata": {},
   "outputs": [
    {
     "data": {
      "text/plain": [
       "[1, 4, 9, 16, 25, 36, 49, 64, 81, 100]"
      ]
     },
     "execution_count": 6,
     "metadata": {},
     "output_type": "execute_result"
    }
   ],
   "source": [
    "[i * i for i in range(1, 11)]"
   ]
  },
  {
   "cell_type": "code",
   "execution_count": 7,
   "id": "1a05bfba",
   "metadata": {},
   "outputs": [
    {
     "data": {
      "text/plain": [
       "[1, 3, 5, 7, 9, 11, 13, 15, 17, 19]"
      ]
     },
     "execution_count": 7,
     "metadata": {},
     "output_type": "execute_result"
    }
   ],
   "source": [
    "[i * 2 - 1 for i in range(1, 11)]"
   ]
  },
  {
   "cell_type": "code",
   "execution_count": 8,
   "id": "a6c48be9",
   "metadata": {},
   "outputs": [],
   "source": [
    "# set()"
   ]
  },
  {
   "cell_type": "code",
   "execution_count": 8,
   "id": "682e3fec",
   "metadata": {},
   "outputs": [
    {
     "data": {
      "text/plain": [
       "{0, 1}"
      ]
     },
     "execution_count": 8,
     "metadata": {},
     "output_type": "execute_result"
    }
   ],
   "source": [
    "set([i % 2 for i in range(1, 11)])"
   ]
  },
  {
   "cell_type": "markdown",
   "id": "5324e30e",
   "metadata": {},
   "source": [
    "### list comprehension의 if문"
   ]
  },
  {
   "cell_type": "code",
   "execution_count": 10,
   "id": "39ca8e0c",
   "metadata": {},
   "outputs": [
    {
     "data": {
      "text/plain": [
       "[0, 1, 2, 3, 4, 5, 6, 7, 8, 9, 10, 11, 12, 13, 14, 15, 16, 17, 18, 19]"
      ]
     },
     "execution_count": 10,
     "metadata": {},
     "output_type": "execute_result"
    }
   ],
   "source": [
    "[i for i in range(0, 20)]"
   ]
  },
  {
   "cell_type": "code",
   "execution_count": 9,
   "id": "d56ee191",
   "metadata": {},
   "outputs": [],
   "source": [
    "test = []\n",
    "\n",
    "for i in range(0, 20) : \n",
    "    if i % 2 == 1 :\n",
    "        test.append(i)"
   ]
  },
  {
   "cell_type": "code",
   "execution_count": 10,
   "id": "2aaf9ba8",
   "metadata": {},
   "outputs": [
    {
     "data": {
      "text/plain": [
       "[1, 3, 5, 7, 9, 11, 13, 15, 17, 19]"
      ]
     },
     "execution_count": 10,
     "metadata": {},
     "output_type": "execute_result"
    }
   ],
   "source": [
    "test"
   ]
  },
  {
   "cell_type": "code",
   "execution_count": 11,
   "id": "002ac856",
   "metadata": {},
   "outputs": [
    {
     "data": {
      "text/plain": [
       "[1, 3, 5, 7, 9, 11, 13, 15, 17, 19]"
      ]
     },
     "execution_count": 11,
     "metadata": {},
     "output_type": "execute_result"
    }
   ],
   "source": [
    "[i for i in range(0, 20) if i % 2 == 1 ]"
   ]
  },
  {
   "cell_type": "code",
   "execution_count": 12,
   "id": "c5d79cb0",
   "metadata": {},
   "outputs": [],
   "source": [
    "import random "
   ]
  },
  {
   "cell_type": "code",
   "execution_count": 13,
   "id": "b5b163a4",
   "metadata": {},
   "outputs": [
    {
     "name": "stdout",
     "output_type": "stream",
     "text": [
      "[1748, 3820, 2889, 2764, 3334, 3982, 4446, 3659, 2543, 3413, 4135, 4153, 3843, 2508, 2336, 3763, 2510, 3945, 2964, 1993, 2784, 3862, 1720, 1781, 3222, 1876, 2203, 4410, 2595, 3307]\n"
     ]
    }
   ],
   "source": [
    "sales = [random.randint(1500, 4500) for i in range(0, 30)]\n",
    "print(sales)"
   ]
  },
  {
   "cell_type": "code",
   "execution_count": 17,
   "id": "b9a67496",
   "metadata": {},
   "outputs": [],
   "source": [
    "# 30일간 매출\n",
    "# 매출의 평균을 넘어서는 값 > 리스트 "
   ]
  },
  {
   "cell_type": "code",
   "execution_count": 14,
   "id": "cae668e4",
   "metadata": {},
   "outputs": [
    {
     "name": "stdout",
     "output_type": "stream",
     "text": [
      "3083.6\n"
     ]
    }
   ],
   "source": [
    "avg = sum(sales) / len(sales) # 리스트의 평균 \n",
    "print(avg)"
   ]
  },
  {
   "cell_type": "code",
   "execution_count": 15,
   "id": "f8de10ec",
   "metadata": {
    "scrolled": true
   },
   "outputs": [
    {
     "data": {
      "text/plain": [
       "[3820,\n",
       " 3334,\n",
       " 3982,\n",
       " 4446,\n",
       " 3659,\n",
       " 3413,\n",
       " 4135,\n",
       " 4153,\n",
       " 3843,\n",
       " 3763,\n",
       " 3945,\n",
       " 3862,\n",
       " 3222,\n",
       " 4410,\n",
       " 3307]"
      ]
     },
     "execution_count": 15,
     "metadata": {},
     "output_type": "execute_result"
    }
   ],
   "source": [
    "[i for i in sales if i > avg]"
   ]
  },
  {
   "cell_type": "code",
   "execution_count": null,
   "id": "0cbe47c8",
   "metadata": {},
   "outputs": [],
   "source": [
    "# if \n",
    "# else "
   ]
  },
  {
   "cell_type": "code",
   "execution_count": 16,
   "id": "1de3fae7",
   "metadata": {},
   "outputs": [
    {
     "data": {
      "text/plain": [
       "['매출 목표 미달',\n",
       " '매출 달성',\n",
       " '매출 목표 미달',\n",
       " '매출 목표 미달',\n",
       " '매출 달성',\n",
       " '매출 달성',\n",
       " '매출 달성',\n",
       " '매출 달성',\n",
       " '매출 목표 미달',\n",
       " '매출 달성',\n",
       " '매출 달성',\n",
       " '매출 달성',\n",
       " '매출 달성',\n",
       " '매출 목표 미달',\n",
       " '매출 목표 미달',\n",
       " '매출 달성',\n",
       " '매출 목표 미달',\n",
       " '매출 달성',\n",
       " '매출 목표 미달',\n",
       " '매출 목표 미달',\n",
       " '매출 목표 미달',\n",
       " '매출 달성',\n",
       " '매출 목표 미달',\n",
       " '매출 목표 미달',\n",
       " '매출 달성',\n",
       " '매출 목표 미달',\n",
       " '매출 목표 미달',\n",
       " '매출 달성',\n",
       " '매출 목표 미달',\n",
       " '매출 달성']"
      ]
     },
     "execution_count": 16,
     "metadata": {},
     "output_type": "execute_result"
    }
   ],
   "source": [
    "['매출 달성' if i > avg else '매출 목표 미달' for i in sales]"
   ]
  },
  {
   "cell_type": "code",
   "execution_count": 17,
   "id": "412d06f5",
   "metadata": {},
   "outputs": [],
   "source": [
    "import pandas as pd "
   ]
  },
  {
   "cell_type": "code",
   "execution_count": 18,
   "id": "fc13d161",
   "metadata": {},
   "outputs": [],
   "source": [
    "df = pd.DataFrame()\n",
    "df[\"일별 판매액\"] = sales\n",
    "df[\"매출 목표 달성 여부\"] = ['매출 달성' if i > avg else '매출 목표 미달' for i in sales]"
   ]
  },
  {
   "cell_type": "code",
   "execution_count": 19,
   "id": "e053b0df",
   "metadata": {},
   "outputs": [
    {
     "data": {
      "text/html": [
       "<div>\n",
       "<style scoped>\n",
       "    .dataframe tbody tr th:only-of-type {\n",
       "        vertical-align: middle;\n",
       "    }\n",
       "\n",
       "    .dataframe tbody tr th {\n",
       "        vertical-align: top;\n",
       "    }\n",
       "\n",
       "    .dataframe thead th {\n",
       "        text-align: right;\n",
       "    }\n",
       "</style>\n",
       "<table border=\"1\" class=\"dataframe\">\n",
       "  <thead>\n",
       "    <tr style=\"text-align: right;\">\n",
       "      <th></th>\n",
       "      <th>일별 판매액</th>\n",
       "      <th>매출 목표 달성 여부</th>\n",
       "    </tr>\n",
       "  </thead>\n",
       "  <tbody>\n",
       "    <tr>\n",
       "      <th>0</th>\n",
       "      <td>1748</td>\n",
       "      <td>매출 목표 미달</td>\n",
       "    </tr>\n",
       "    <tr>\n",
       "      <th>1</th>\n",
       "      <td>3820</td>\n",
       "      <td>매출 달성</td>\n",
       "    </tr>\n",
       "    <tr>\n",
       "      <th>2</th>\n",
       "      <td>2889</td>\n",
       "      <td>매출 목표 미달</td>\n",
       "    </tr>\n",
       "    <tr>\n",
       "      <th>3</th>\n",
       "      <td>2764</td>\n",
       "      <td>매출 목표 미달</td>\n",
       "    </tr>\n",
       "    <tr>\n",
       "      <th>4</th>\n",
       "      <td>3334</td>\n",
       "      <td>매출 달성</td>\n",
       "    </tr>\n",
       "  </tbody>\n",
       "</table>\n",
       "</div>"
      ],
      "text/plain": [
       "   일별 판매액 매출 목표 달성 여부\n",
       "0    1748    매출 목표 미달\n",
       "1    3820       매출 달성\n",
       "2    2889    매출 목표 미달\n",
       "3    2764    매출 목표 미달\n",
       "4    3334       매출 달성"
      ]
     },
     "execution_count": 19,
     "metadata": {},
     "output_type": "execute_result"
    }
   ],
   "source": [
    "df.head()"
   ]
  },
  {
   "cell_type": "code",
   "execution_count": null,
   "id": "af1b0a81",
   "metadata": {},
   "outputs": [],
   "source": []
  },
  {
   "cell_type": "code",
   "execution_count": null,
   "id": "62dc2996",
   "metadata": {},
   "outputs": [],
   "source": []
  }
 ],
 "metadata": {
  "kernelspec": {
   "display_name": "Python 3",
   "language": "python",
   "name": "python3"
  },
  "language_info": {
   "codemirror_mode": {
    "name": "ipython",
    "version": 3
   },
   "file_extension": ".py",
   "mimetype": "text/x-python",
   "name": "python",
   "nbconvert_exporter": "python",
   "pygments_lexer": "ipython3",
   "version": "3.8.18"
  }
 },
 "nbformat": 4,
 "nbformat_minor": 5
}
